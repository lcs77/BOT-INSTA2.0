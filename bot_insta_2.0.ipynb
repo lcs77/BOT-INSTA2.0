{
 "cells": [
  {
   "cell_type": "code",
   "execution_count": null,
   "metadata": {},
   "outputs": [],
   "source": []
  },
  {
   "cell_type": "code",
   "execution_count": 6,
   "metadata": {},
   "outputs": [
    {
     "ename": "KeyboardInterrupt",
     "evalue": "",
     "output_type": "error",
     "traceback": [
      "\u001b[1;31m---------------------------------------------------------------------------\u001b[0m",
      "\u001b[1;31mKeyboardInterrupt\u001b[0m                         Traceback (most recent call last)",
      "\u001b[1;32m<ipython-input-6-ff91cbd9c8b2>\u001b[0m in \u001b[0;36m<module>\u001b[1;34m\u001b[0m\n\u001b[0;32m     40\u001b[0m     \u001b[1;32mfor\u001b[0m \u001b[0mbbb\u001b[0m \u001b[1;32min\u001b[0m \u001b[0mbb\u001b[0m\u001b[1;33m:\u001b[0m\u001b[1;33m\u001b[0m\u001b[1;33m\u001b[0m\u001b[0m\n\u001b[0;32m     41\u001b[0m         \u001b[0mpa\u001b[0m\u001b[1;33m.\u001b[0m\u001b[0mwrite\u001b[0m\u001b[1;33m(\u001b[0m\u001b[0mbbb\u001b[0m\u001b[1;33m)\u001b[0m\u001b[1;33m\u001b[0m\u001b[1;33m\u001b[0m\u001b[0m\n\u001b[1;32m---> 42\u001b[1;33m         \u001b[0mtime\u001b[0m\u001b[1;33m.\u001b[0m\u001b[0msleep\u001b[0m\u001b[1;33m(\u001b[0m\u001b[1;36m0.5\u001b[0m\u001b[1;33m)\u001b[0m\u001b[1;33m\u001b[0m\u001b[1;33m\u001b[0m\u001b[0m\n\u001b[0m\u001b[0;32m     43\u001b[0m     \u001b[0mpa\u001b[0m\u001b[1;33m.\u001b[0m\u001b[0mdragTo\u001b[0m\u001b[1;33m(\u001b[0m\u001b[1;36m1091\u001b[0m\u001b[1;33m,\u001b[0m \u001b[1;36m205\u001b[0m\u001b[1;33m,\u001b[0m \u001b[1;36m0.3\u001b[0m\u001b[1;33m)\u001b[0m\u001b[1;33m\u001b[0m\u001b[1;33m\u001b[0m\u001b[0m\n\u001b[0;32m     44\u001b[0m     \u001b[0mpa\u001b[0m\u001b[1;33m.\u001b[0m\u001b[0mclick\u001b[0m\u001b[1;33m(\u001b[0m\u001b[1;33m)\u001b[0m\u001b[1;33m\u001b[0m\u001b[1;33m\u001b[0m\u001b[0m\n",
      "\u001b[1;31mKeyboardInterrupt\u001b[0m: "
     ]
    }
   ],
   "source": [
    "import pyautogui as pa\n",
    "import time\n",
    "import pyperclip as pc\n",
    "import random as rd\n",
    "\n",
    "# BOT PARA O INSTA\n",
    "url = 'https://www.instagram.com/p/COpz2TaBHDC/'\n",
    "pa.hotkey('ctrl', 't')\n",
    "pc.copy(url)\n",
    "pa.hotkey('ctrl', 'v')\n",
    "pa.press('enter')\n",
    "time.sleep(2)\n",
    "pa.press('pagedown')\n",
    "time.sleep(5)\n",
    "pa.dragTo(928, 209, 0.3)\n",
    "pa.click()\n",
    "time.sleep(2)\n",
    "lista = ['@debysluna vou ganhar', '@andersonkleyton97 vou ganhar', '@elton_dutra vou ganhar',\n",
    "         '@adryellepaganele vou ganhar','@nandocunha.on vou ganhar',\n",
    "         '@laurinha_silva018 vou ganhar', '@jessiica.r_ vou ganhar', '@umadanialeatoria vou ganhar',\n",
    "         '@lucaxsouto vou ganhar', '@mylenesales__ vou ganhar', '@samaraa.l vou ganhar',\n",
    "         '@peter.esteban vou ganhar', '@suzana.andrade8 vou ganhar', '@laendryo vou ganhar',\n",
    "         '@filipesantana79 vou ganhar',\n",
    "         '@mille__silva__ vou ganhar', '@m0rena_de_luz vou ganhar',\n",
    "         '@rafaelavanesca vou ganhar', '@uilhaaaa vou ganhar', '@biaroshe vou ganhar',\n",
    "         '@whylip vou ganhar', '@wtfdavison vou ganhar', '@rafaelfelypeguerreiro vou ganhar',\n",
    "         '@jacymarnunes vou ganhar', '@lucax1 vou ganhar', '@mercia_dias17 vou ganhar',\n",
    "         '@claytoonvinicius vou ganhar', '@viduarte._ vou ganhar', '@mayke_ct1 vou ganhar',\n",
    "         '@lulu_infancia_ vou ganhar', '@marcello.henrique.142 vou ganhar',\n",
    "         '@_2001nanda vou ganhar', '@oliveira_leticya já ganhei',\n",
    "         '@eliza_298 já ganhei', '@ana.iedon já ganhei', '@_paloma.v vou ganhar',\n",
    "         '@thiago_sheik.3 vou ganhar', '@marcellasamyrra vou ganhar',\n",
    "         '@wwcarvalho vou ganhar', '@alexisgomes_oficialpro vou ganhar', '@nyalkz vou ganhar',\n",
    "         '@pinheiroo12 vou ganhar', '@lauramariarr vou ganhar', '@mestre.lnm vou ganhar','@thay.bandeira vou ganhar',\n",
    "         '@jejejenniferr vou ganhar']\n",
    "contador = 0\n",
    "val_cont = 0\n",
    "val = 0\n",
    "for bb in lista:\n",
    "    for bbb in bb:\n",
    "        pa.write(bbb)\n",
    "        time.sleep(0.5)\n",
    "    pa.dragTo(1091, 205, 0.3)\n",
    "    pa.click()\n",
    "    time.sleep(4)\n",
    "    pa.dragTo(928, 209, 0.3)\n",
    "    pa.click()\n",
    "\n",
    "    contador += 1\n",
    "    if contador == 6:\n",
    "        time.sleep(8)\n",
    "        contador = 0\n",
    "        val_cont +=1\n",
    "        pa.dragTo(261, 128, 0.3)\n",
    "        pa.click()\n",
    "        time.sleep(1)\n",
    "        pa.dragTo(249, 246, 0.3)\n",
    "        pa.click()\n",
    "        time.sleep(70)\n",
    "        pa.click(646, 52)\n",
    "        pa.hotkey('ctrl', 'v')\n",
    "        pa.press('enter')\n",
    "        time.sleep(2)\n",
    "        pa.press('pagedown')\n",
    "        time.sleep(3)\n",
    "        pa.dragTo(928, 209, 0.3)\n",
    "        pa.click()\n",
    "        \n",
    "    if val_cont == 3:\n",
    "        pa.press('f5')\n",
    "        time.sleep(90)\n",
    "        val_cont = 0\n",
    "        pa.press('pagedown')\n",
    "        time.sleep(3)\n",
    "        pa.dragTo(928, 209, 0.3)\n",
    "        pa.click\n",
    "        \n",
    "        \n"
   ]
  },
  {
   "cell_type": "code",
   "execution_count": null,
   "metadata": {
    "collapsed": true
   },
   "outputs": [],
   "source": [
    "\n",
    "    ['@gvbrie_ll vou ganhar', '@anddersonleitte vou ganhar', '@alpha_dior vou ganhar', '@biia_8467 vou ganhar',\n",
    "         '@by_daniel_ms vou ganhar', '@rafaellamxm vou ganhar',\n",
    "         '@alef_aquino vou ganhar', '@art.hhur vou ganhar', '@marrlyson_ vou ganhar', '@macedoo_anaa vou ganhar',\n",
    "         '@jenisz vou ganhar', '@zayronxavier vou ganhar', '@orugzn vou ganhar',\n",
    "         '@_thy.ago vou ganhar','@camillamaracuja vou ganhar', '@gustavo_muniz11 vou ganhar', '@mano_jo vou ganhar',\n",
    "      '@laurabarbos4 vou ganhar', '@l_naatty_l vou ganhar', '@rxlbqrq vou ganhar',\n",
    "         "
   ]
  },
  {
   "cell_type": "code",
   "execution_count": 4,
   "metadata": {},
   "outputs": [
    {
     "ename": "NameError",
     "evalue": "name 'papress' is not defined",
     "output_type": "error",
     "traceback": [
      "\u001b[1;31m---------------------------------------------------------------------------\u001b[0m",
      "\u001b[1;31mNameError\u001b[0m                                 Traceback (most recent call last)",
      "\u001b[1;32m<ipython-input-4-9e378c280a02>\u001b[0m in \u001b[0;36m<module>\u001b[1;34m\u001b[0m\n\u001b[0;32m      3\u001b[0m \u001b[0mtime\u001b[0m\u001b[1;33m.\u001b[0m\u001b[0msleep\u001b[0m\u001b[1;33m(\u001b[0m\u001b[1;36m90\u001b[0m\u001b[1;33m)\u001b[0m\u001b[1;33m\u001b[0m\u001b[1;33m\u001b[0m\u001b[0m\n\u001b[0;32m      4\u001b[0m \u001b[0mval_cont\u001b[0m \u001b[1;33m=\u001b[0m \u001b[1;36m0\u001b[0m\u001b[1;33m\u001b[0m\u001b[1;33m\u001b[0m\u001b[0m\n\u001b[1;32m----> 5\u001b[1;33m \u001b[0mpapress\u001b[0m\u001b[1;33m(\u001b[0m\u001b[1;34m'pagedown'\u001b[0m\u001b[1;33m)\u001b[0m\u001b[1;33m\u001b[0m\u001b[1;33m\u001b[0m\u001b[0m\n\u001b[0m\u001b[0;32m      6\u001b[0m \u001b[0mtime\u001b[0m\u001b[1;33m.\u001b[0m\u001b[0msleep\u001b[0m\u001b[1;33m(\u001b[0m\u001b[1;36m3\u001b[0m\u001b[1;33m)\u001b[0m\u001b[1;33m\u001b[0m\u001b[1;33m\u001b[0m\u001b[0m\n\u001b[0;32m      7\u001b[0m \u001b[0mpa\u001b[0m\u001b[1;33m.\u001b[0m\u001b[0mdragTo\u001b[0m\u001b[1;33m(\u001b[0m\u001b[1;36m928\u001b[0m\u001b[1;33m,\u001b[0m \u001b[1;36m209\u001b[0m\u001b[1;33m,\u001b[0m \u001b[1;36m0.3\u001b[0m\u001b[1;33m)\u001b[0m\u001b[1;33m\u001b[0m\u001b[1;33m\u001b[0m\u001b[0m\n",
      "\u001b[1;31mNameError\u001b[0m: name 'papress' is not defined"
     ]
    }
   ],
   "source": [
    "time.sleep(8)        \n",
    "pa.press('f5')\n",
    "time.sleep(90)\n",
    "val_cont = 0\n",
    "papress('pagedown')\n",
    "time.sleep(3)\n",
    "pa.dragTo(928, 209, 0.3)\n",
    "pa.click"
   ]
  },
  {
   "cell_type": "code",
   "execution_count": null,
   "metadata": {},
   "outputs": [],
   "source": []
  }
 ],
 "metadata": {
  "kernelspec": {
   "display_name": "Python 3",
   "language": "python",
   "name": "python3"
  },
  "language_info": {
   "codemirror_mode": {
    "name": "ipython",
    "version": 3
   },
   "file_extension": ".py",
   "mimetype": "text/x-python",
   "name": "python",
   "nbconvert_exporter": "python",
   "pygments_lexer": "ipython3",
   "version": "3.8.5"
  }
 },
 "nbformat": 4,
 "nbformat_minor": 4
}
